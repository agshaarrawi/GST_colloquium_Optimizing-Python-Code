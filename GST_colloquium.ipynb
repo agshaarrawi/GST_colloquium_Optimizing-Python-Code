{
  "nbformat": 4,
  "nbformat_minor": 0,
  "metadata": {
    "colab": {
      "provenance": [],
      "authorship_tag": "ABX9TyPaJTXqQ+mm3tPeNfzhbfBi",
      "include_colab_link": true
    },
    "kernelspec": {
      "name": "python3",
      "display_name": "Python 3"
    },
    "language_info": {
      "name": "python"
    }
  },
  "cells": [
    {
      "cell_type": "markdown",
      "metadata": {
        "id": "view-in-github",
        "colab_type": "text"
      },
      "source": [
        "<a href=\"https://colab.research.google.com/github/stavis1/GST_colloquium/blob/main/GST_colloquium.ipynb\" target=\"_parent\"><img src=\"https://colab.research.google.com/assets/colab-badge.svg\" alt=\"Open In Colab\"/></a>"
      ]
    },
    {
      "cell_type": "markdown",
      "source": [],
      "metadata": {
        "id": "dvSqLtCbA3vV"
      }
    },
    {
      "cell_type": "code",
      "source": [
        "from google.colab import drive\n",
        "drive.mount('/content/drive')"
      ],
      "metadata": {
        "id": "sC98RVF-BDsg"
      },
      "execution_count": null,
      "outputs": []
    },
    {
      "cell_type": "code",
      "source": [
        "!pip install brain-isotopic-distribution\n",
        "!pip install multiprocesspandas"
      ],
      "metadata": {
        "colab": {
          "base_uri": "https://localhost:8080/"
        },
        "id": "gTQu0A6eB3qD",
        "outputId": "27af0a4f-58fc-48a7-956d-9ec2202da058"
      },
      "execution_count": 5,
      "outputs": [
        {
          "output_type": "stream",
          "name": "stdout",
          "text": [
            "Requirement already satisfied: brain-isotopic-distribution in /usr/local/lib/python3.10/dist-packages (1.5.16)\n",
            "Collecting multiprocesspandas\n",
            "  Downloading multiprocesspandas-1.1.5-py3-none-any.whl (4.9 kB)\n",
            "Collecting multiprocess==0.70.11.1 (from multiprocesspandas)\n",
            "  Downloading multiprocess-0.70.11.1-py39-none-any.whl (126 kB)\n",
            "\u001b[2K     \u001b[90m━━━━━━━━━━━━━━━━━━━━━━━━━━━━━━━━━━━━━━━━\u001b[0m \u001b[32m126.6/126.6 kB\u001b[0m \u001b[31m1.3 MB/s\u001b[0m eta \u001b[36m0:00:00\u001b[0m\n",
            "\u001b[?25hRequirement already satisfied: pandas in /usr/local/lib/python3.10/dist-packages (from multiprocesspandas) (1.5.3)\n",
            "Requirement already satisfied: tqdm in /usr/local/lib/python3.10/dist-packages (from multiprocesspandas) (4.66.2)\n",
            "Requirement already satisfied: numpy in /usr/local/lib/python3.10/dist-packages (from multiprocesspandas) (1.25.2)\n",
            "Collecting dill>=0.3.3 (from multiprocess==0.70.11.1->multiprocesspandas)\n",
            "  Downloading dill-0.3.8-py3-none-any.whl (116 kB)\n",
            "\u001b[2K     \u001b[90m━━━━━━━━━━━━━━━━━━━━━━━━━━━━━━━━━━━━━━━━\u001b[0m \u001b[32m116.3/116.3 kB\u001b[0m \u001b[31m6.0 MB/s\u001b[0m eta \u001b[36m0:00:00\u001b[0m\n",
            "\u001b[?25hRequirement already satisfied: python-dateutil>=2.8.1 in /usr/local/lib/python3.10/dist-packages (from pandas->multiprocesspandas) (2.8.2)\n",
            "Requirement already satisfied: pytz>=2020.1 in /usr/local/lib/python3.10/dist-packages (from pandas->multiprocesspandas) (2023.4)\n",
            "Requirement already satisfied: six>=1.5 in /usr/local/lib/python3.10/dist-packages (from python-dateutil>=2.8.1->pandas->multiprocesspandas) (1.16.0)\n",
            "Installing collected packages: dill, multiprocess, multiprocesspandas\n",
            "Successfully installed dill-0.3.8 multiprocess-0.70.11.1 multiprocesspandas-1.1.5\n"
          ]
        }
      ]
    },
    {
      "cell_type": "code",
      "source": [
        "import scipy\n",
        "import pandas as pd\n",
        "import numpy as np\n",
        "from brainpy import isotopic_variants\n",
        "import numba\n",
        "from functools import cache\n",
        "import multiprocesspandas"
      ],
      "metadata": {
        "id": "_M3C91KvBy-K"
      },
      "execution_count": 6,
      "outputs": []
    }
  ]
}