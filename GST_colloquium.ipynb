{
  "nbformat": 4,
  "nbformat_minor": 0,
  "metadata": {
    "colab": {
      "provenance": [],
      "toc_visible": true,
      "authorship_tag": "ABX9TyPaRQE7oZ0QQ8KoR1v+z+s+",
      "include_colab_link": true
    },
    "kernelspec": {
      "name": "python3",
      "display_name": "Python 3"
    },
    "language_info": {
      "name": "python"
    }
  },
  "cells": [
    {
      "cell_type": "markdown",
      "metadata": {
        "id": "view-in-github",
        "colab_type": "text"
      },
      "source": [
        "<a href=\"https://colab.research.google.com/github/stavis1/GST_colloquium/blob/main/GST_colloquium.ipynb\" target=\"_parent\"><img src=\"https://colab.research.google.com/assets/colab-badge.svg\" alt=\"Open In Colab\"/></a>"
      ]
    },
    {
      "cell_type": "markdown",
      "source": [
        "#GST Colloquium on Python coding"
      ],
      "metadata": {
        "id": "dvSqLtCbA3vV"
      }
    },
    {
      "cell_type": "code",
      "source": [
        "#this allows us to interact with google drive from within python\n",
        "from google.colab import drive\n",
        "#we mount our google drive which means that we make it acessable as a hard drive\n",
        "#in our file system under the path '/content/drive'\n",
        "drive.mount('/content/drive')"
      ],
      "metadata": {
        "id": "sC98RVF-BDsg"
      },
      "execution_count": null,
      "outputs": []
    },
    {
      "cell_type": "code",
      "source": [
        "#colab comes with most common packages installed already but we want to use a\n",
        "#few uncommon ones so we install these ourselves.\n",
        "#The \"!\" tells jupyter to pass the line to the bash shell, this allows us to run\n",
        "#command line tools like pip from within jupyter notebook\n",
        "!pip install brain-isotopic-distribution\n",
        "!pip install multiprocesspandas"
      ],
      "metadata": {
        "id": "gTQu0A6eB3qD"
      },
      "execution_count": null,
      "outputs": []
    },
    {
      "cell_type": "code",
      "source": [
        "#it is generally recommended best practice to import the packages that come with\n",
        "#python first before importing third party packages.\n",
        "from functools import cache\n",
        "from multiprocessing import Pool\n",
        "from collections import defaultdict\n",
        "\n",
        "from brainpy import isotopic_variants\n",
        "from numba import jit\n",
        "import numpy as np\n",
        "import pandas as pd\n",
        "import matplotlib.pyplot as plt\n",
        "import multiprocesspandas\n",
        "from scipy.optimize import minimize\n",
        "from sortedcontainers import SortedList"
      ],
      "metadata": {
        "id": "_M3C91KvBy-K"
      },
      "execution_count": null,
      "outputs": []
    },
    {
      "cell_type": "markdown",
      "source": [
        "##Data Structures"
      ],
      "metadata": {
        "id": "JJvq3pfCHxEN"
      }
    },
    {
      "cell_type": "markdown",
      "source": [
        "###Hashmaps"
      ],
      "metadata": {
        "id": "DBtrYU4mIrTD"
      }
    },
    {
      "cell_type": "markdown",
      "source": [
        "###Search trees"
      ],
      "metadata": {
        "id": "1x8476GZIz9O"
      }
    },
    {
      "cell_type": "markdown",
      "source": [
        "###Example 1: fuzzy matching"
      ],
      "metadata": {
        "id": "_yuGS-suI6Wv"
      }
    },
    {
      "cell_type": "markdown",
      "source": [
        "###Example 2: file parsing"
      ],
      "metadata": {
        "id": "wTzgj_HwJOyA"
      }
    },
    {
      "cell_type": "markdown",
      "source": [
        "###Example 3: isotope abundance calculations"
      ],
      "metadata": {
        "id": "8xdqdzaoJan6"
      }
    },
    {
      "cell_type": "markdown",
      "source": [
        "##Pandas and Numpy"
      ],
      "metadata": {
        "id": "fmc_HwHBHzip"
      }
    },
    {
      "cell_type": "markdown",
      "source": [
        "###Faster .xlsx import"
      ],
      "metadata": {
        "id": "C6KC1t-RN9To"
      }
    },
    {
      "cell_type": "markdown",
      "source": [
        "###Example 4: metabolomics data"
      ],
      "metadata": {
        "id": "DJVuSrn9Dq1e"
      }
    },
    {
      "cell_type": "markdown",
      "source": [
        "###Using vectorized operations"
      ],
      "metadata": {
        "id": "yjU_X23DDUpn"
      }
    },
    {
      "cell_type": "markdown",
      "source": [
        "###Example 5: normalization"
      ],
      "metadata": {
        "id": "PCnOKINlDvm2"
      }
    },
    {
      "cell_type": "markdown",
      "source": [
        "###Building and accessing dataframes"
      ],
      "metadata": {
        "id": "xhk_IqTyEHN-"
      }
    },
    {
      "cell_type": "markdown",
      "source": [
        "###Example 6: TBD"
      ],
      "metadata": {
        "id": "Vq4hmcioEt4V"
      }
    },
    {
      "cell_type": "markdown",
      "source": [
        "##Minimizers"
      ],
      "metadata": {
        "id": "Hn6uV3phH4tc"
      }
    },
    {
      "cell_type": "markdown",
      "source": [
        "###Example 7: isotopic packet fitting"
      ],
      "metadata": {
        "id": "2KGHUvp2Jpxp"
      }
    },
    {
      "cell_type": "markdown",
      "source": [
        "##Multiprocessing"
      ],
      "metadata": {
        "id": "vcegauIsICTX"
      }
    },
    {
      "cell_type": "markdown",
      "source": [
        "###Numba"
      ],
      "metadata": {
        "id": "bL1vH6LTJyZ4"
      }
    },
    {
      "cell_type": "markdown",
      "source": [
        "###Example 8: custom correlation matrix"
      ],
      "metadata": {
        "id": "hSqT96OIJ2_U"
      }
    },
    {
      "cell_type": "markdown",
      "source": [
        "###multiprocessing.Pool"
      ],
      "metadata": {
        "id": "nFxCOupHKMyp"
      }
    },
    {
      "cell_type": "markdown",
      "source": [
        "###Example 9fdsaasdfdsfaaassswersdf\n"
      ],
      "metadata": {
        "id": "GTV8TwR6NLft"
      }
    }
  ]
}